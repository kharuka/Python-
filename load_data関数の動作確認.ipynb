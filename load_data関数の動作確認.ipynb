{
 "cells": [
  {
   "cell_type": "code",
   "execution_count": 5,
   "metadata": {
    "collapsed": true
   },
   "outputs": [],
   "source": [
    "import guestbook\n",
    "from guestbook import load_data"
   ]
  },
  {
   "cell_type": "code",
   "execution_count": 6,
   "metadata": {},
   "outputs": [
    {
     "data": {
      "text/plain": [
       "[{'comment': 'test comment',\n",
       "  'create_at': datetime.datetime(2017, 10, 1, 20, 59),\n",
       "  'name': 'test'},\n",
       " {'comment': 'test comment',\n",
       "  'create_at': datetime.datetime(2017, 10, 1, 20, 56),\n",
       "  'name': 'test'},\n",
       " {'comment': 'test comment',\n",
       "  'create_at': datetime.datetime(2017, 10, 1, 20, 35),\n",
       "  'name': 'test'},\n",
       " {'comment': 'test comment',\n",
       "  'create_at': datetime.datetime(2017, 10, 1, 20, 35),\n",
       "  'name': 'test'},\n",
       " {'comment': 'test comment',\n",
       "  'create_at': datetime.datetime(2017, 10, 1, 20, 35),\n",
       "  'name': 'test'},\n",
       " {'comment': 'test comment',\n",
       "  'create_at': datetime.datetime(2017, 10, 1, 20, 35),\n",
       "  'name': 'test'},\n",
       " {'comment': 'test comment',\n",
       "  'create_at': datetime.datetime(2017, 10, 1, 20, 35),\n",
       "  'name': 'test'},\n",
       " {'comment': 'test comment',\n",
       "  'create_at': datetime.datetime(2017, 10, 1, 20, 35),\n",
       "  'name': 'test'},\n",
       " {'comment': 'test comment',\n",
       "  'create_at': datetime.datetime(2017, 10, 1, 20, 35),\n",
       "  'name': 'test'}]"
      ]
     },
     "execution_count": 6,
     "metadata": {},
     "output_type": "execute_result"
    }
   ],
   "source": [
    "load_data()"
   ]
  },
  {
   "cell_type": "code",
   "execution_count": null,
   "metadata": {
    "collapsed": true
   },
   "outputs": [],
   "source": []
  }
 ],
 "metadata": {
  "kernelspec": {
   "display_name": "Python 3",
   "language": "python",
   "name": "python3"
  },
  "language_info": {
   "codemirror_mode": {
    "name": "ipython",
    "version": 3
   },
   "file_extension": ".py",
   "mimetype": "text/x-python",
   "name": "python",
   "nbconvert_exporter": "python",
   "pygments_lexer": "ipython3",
   "version": "3.6.1"
  }
 },
 "nbformat": 4,
 "nbformat_minor": 2
}
